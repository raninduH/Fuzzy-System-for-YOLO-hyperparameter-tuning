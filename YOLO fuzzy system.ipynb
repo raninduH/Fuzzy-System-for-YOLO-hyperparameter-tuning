import cv2
import numpy as np
import skfuzzy as fuzz
from skfuzzy import control as ctrl
from skimage import exposure, filters, util
from skimage.restoration import estimate_sigma

# Define fuzzy input variables
brightness = ctrl.Antecedent(np.arange(0, 11, 1), 'brightness')
contrast = ctrl.Antecedent(np.arange(0, 11, 1), 'contrast')
noise_level = ctrl.Antecedent(np.arange(0, 11, 1), 'noise_level')
sharpness = ctrl.Antecedent(np.arange(0, 11, 1), 'sharpness')
object_distance = ctrl.Antecedent(np.arange(0, 11, 1), 'object_distance')
resolution_quality = ctrl.Antecedent(np.arange(0, 11, 1), 'resolution_quality')

# Define fuzzy output variables for YOLO parameters
conf_thres = ctrl.Consequent(np.arange(0, 1.1, 0.1), 'conf_thres')
iou_thres = ctrl.Consequent(np.arange(0, 1.1, 0.1), 'iou_thres')
img_size = ctrl.Consequent(np.arange(320, 1281, 160), 'img_size')
max_detections = ctrl.Consequent(np.arange(0, 1001, 50), 'max_detections')

# Define membership functions for inputs
brightness['low'] = fuzz.trapmf(brightness.universe, [0, 0, 2, 4])
brightness['medium'] = fuzz.trimf(brightness.universe, [3, 5, 7])
brightness['high'] = fuzz.trapmf(brightness.universe, [6, 8, 10, 10])

contrast['low'] = fuzz.trapmf(contrast.universe, [0, 0, 2, 4])
contrast['medium'] = fuzz.trimf(contrast.universe, [3, 5, 7])
contrast['high'] = fuzz.trapmf(contrast.universe, [6, 8, 10, 10])

noise_level['low'] = fuzz.trapmf(noise_level.universe, [0, 0, 2, 4])
noise_level['medium'] = fuzz.trimf(noise_level.universe, [3, 5, 7])
noise_level['high'] = fuzz.trapmf(noise_level.universe, [6, 8, 10, 10])

sharpness['low'] = fuzz.trapmf(sharpness.universe, [0, 0, 2, 4])
sharpness['medium'] = fuzz.trimf(sharpness.universe, [3, 5, 7])
sharpness['high'] = fuzz.trapmf(sharpness.universe, [6, 8, 10, 10])

object_distance['close'] = fuzz.trapmf(object_distance.universe, [0, 0, 2, 4])
object_distance['medium'] = fuzz.trimf(object_distance.universe, [3, 5, 7])
object_distance['far'] = fuzz.trapmf(object_distance.universe, [6, 8, 10, 10])

resolution_quality['low'] = fuzz.trapmf(resolution_quality.universe, [0, 0, 2, 4])
resolution_quality['medium'] = fuzz.trimf(resolution_quality.universe, [3, 5, 7])
resolution_quality['high'] = fuzz.trapmf(resolution_quality.universe, [6, 8, 10, 10])

# Define fuzzy membership functions for outputs
conf_thres['low'] = fuzz.trapmf(conf_thres.universe, [0, 0, 0.2, 0.4])
conf_thres['medium'] = fuzz.trimf(conf_thres.universe, [0.3, 0.5, 0.7])
conf_thres['high'] = fuzz.trapmf(conf_thres.universe, [0.6, 0.8, 1, 1])

iou_thres['low'] = fuzz.trapmf(iou_thres.universe, [0, 0, 0.2, 0.4])
iou_thres['medium'] = fuzz.trimf(iou_thres.universe, [0.3, 0.5, 0.7])
iou_thres['high'] = fuzz.trapmf(iou_thres.universe, [0.6, 0.8, 1, 1])

img_size['small'] = fuzz.trapmf(img_size.universe, [320, 320, 480, 640])
img_size['medium'] = fuzz.trimf(img_size.universe, [480, 640, 800])
img_size['large'] = fuzz.trapmf(img_size.universe, [800, 960, 1280, 1280])

max_detections['low'] = fuzz.trapmf(max_detections.universe, [0, 0, 200, 400])
max_detections['medium'] = fuzz.trimf(max_detections.universe, [300, 500, 700])
max_detections['high'] = fuzz.trapmf(max_detections.universe, [600, 800, 1000, 1000])

# Define rules (based on previous example)
rules = [
    ctrl.Rule(brightness['low'] | contrast['low'], (conf_thres['low'], iou_thres['low'], img_size['small'], max_detections['medium'])),
    ctrl.Rule(brightness['high'], (conf_thres['low'], iou_thres['low'], img_size['small'])),
    ctrl.Rule(brightness['medium'] & contrast['high'], (conf_thres['high'], iou_thres['high'], img_size['large'])),
    ctrl.Rule(noise_level['high'], (conf_thres['low'], iou_thres['high'], img_size['small'], max_detections['low'])),
    ctrl.Rule(sharpness['high'], (conf_thres['high'], iou_thres['high'], img_size['large'])),
    ctrl.Rule(object_distance['far'], (conf_thres['low'], img_size['large'], max_detections['high'])),
    ctrl.Rule(object_distance['close'], (img_size['small'], max_detections['medium'])),
    ctrl.Rule(resolution_quality['low'], (conf_thres['low'], iou_thres['low'], img_size['small'], max_detections['low'])),
    ctrl.Rule(resolution_quality['high'], (conf_thres['high'], iou_thres['high'], img_size['large'], max_detections['high']))
]

# Create fuzzy control system
yolo_ctrl = ctrl.ControlSystem(rules)
yolo_simulation = ctrl.ControlSystemSimulation(yolo_ctrl)

